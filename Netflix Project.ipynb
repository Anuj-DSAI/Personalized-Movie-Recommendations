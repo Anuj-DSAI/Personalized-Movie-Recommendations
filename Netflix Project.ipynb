{
 "cells": [
  {
   "cell_type": "code",
   "execution_count": 1,
   "id": "c4dbb6af",
   "metadata": {},
   "outputs": [
    {
     "name": "stderr",
     "output_type": "stream",
     "text": [
      "C:\\Users\\Mudit Computer\\AppData\\Roaming\\Python\\Python39\\site-packages\\pandas\\core\\computation\\expressions.py:21: UserWarning: Pandas requires version '2.8.4' or newer of 'numexpr' (version '2.8.3' currently installed).\n",
      "  from pandas.core.computation.check import NUMEXPR_INSTALLED\n",
      "C:\\Users\\Mudit Computer\\AppData\\Roaming\\Python\\Python39\\site-packages\\pandas\\core\\arrays\\masked.py:60: UserWarning: Pandas requires version '1.3.6' or newer of 'bottleneck' (version '1.3.5' currently installed).\n",
      "  from pandas.core import (\n"
     ]
    }
   ],
   "source": [
    "import pandas as pd\n",
    "import seaborn as sns\n",
    "import numpy as np"
   ]
  },
  {
   "cell_type": "code",
   "execution_count": 2,
   "id": "03f7d4e6",
   "metadata": {},
   "outputs": [],
   "source": [
    "movie=pd.read_csv('movies.csv')\n"
   ]
  },
  {
   "cell_type": "code",
   "execution_count": 3,
   "id": "f06e0602",
   "metadata": {},
   "outputs": [],
   "source": [
    "rating=pd.read_csv('ratings.csv')"
   ]
  },
  {
   "cell_type": "code",
   "execution_count": 4,
   "id": "6eb49d3d",
   "metadata": {},
   "outputs": [],
   "source": [
    "movie['year'] = movie['title'].str.extract(r'\\((\\d{4})\\)$')[0]\n",
    "movie['title'] = movie['title'].str.replace(r' \\(\\d{4}\\)$', '', regex=True)"
   ]
  },
  {
   "cell_type": "code",
   "execution_count": 5,
   "id": "9242f6c9",
   "metadata": {},
   "outputs": [],
   "source": [
    "movie['genres'] = movie['genres'].str.replace('|', ',')\n"
   ]
  },
  {
   "cell_type": "code",
   "execution_count": 6,
   "id": "52a423ad",
   "metadata": {},
   "outputs": [
    {
     "data": {
      "text/plain": [
       "(87585, 4)"
      ]
     },
     "execution_count": 6,
     "metadata": {},
     "output_type": "execute_result"
    }
   ],
   "source": [
    "movie.shape"
   ]
  },
  {
   "cell_type": "code",
   "execution_count": 7,
   "id": "b6dd1c7f",
   "metadata": {},
   "outputs": [
    {
     "data": {
      "text/html": [
       "<div>\n",
       "<style scoped>\n",
       "    .dataframe tbody tr th:only-of-type {\n",
       "        vertical-align: middle;\n",
       "    }\n",
       "\n",
       "    .dataframe tbody tr th {\n",
       "        vertical-align: top;\n",
       "    }\n",
       "\n",
       "    .dataframe thead th {\n",
       "        text-align: right;\n",
       "    }\n",
       "</style>\n",
       "<table border=\"1\" class=\"dataframe\">\n",
       "  <thead>\n",
       "    <tr style=\"text-align: right;\">\n",
       "      <th></th>\n",
       "      <th>movieId</th>\n",
       "      <th>title</th>\n",
       "      <th>genres</th>\n",
       "      <th>year</th>\n",
       "    </tr>\n",
       "  </thead>\n",
       "  <tbody>\n",
       "    <tr>\n",
       "      <th>15884</th>\n",
       "      <td>83773</td>\n",
       "      <td>Away with Words (San tiao ren)</td>\n",
       "      <td>(no genres listed)</td>\n",
       "      <td>1999</td>\n",
       "    </tr>\n",
       "    <tr>\n",
       "      <th>16063</th>\n",
       "      <td>84768</td>\n",
       "      <td>Glitterbug</td>\n",
       "      <td>(no genres listed)</td>\n",
       "      <td>1994</td>\n",
       "    </tr>\n",
       "    <tr>\n",
       "      <th>16354</th>\n",
       "      <td>86493</td>\n",
       "      <td>Age of the Earth, The (A Idade da Terra)</td>\n",
       "      <td>(no genres listed)</td>\n",
       "      <td>1980</td>\n",
       "    </tr>\n",
       "    <tr>\n",
       "      <th>16494</th>\n",
       "      <td>87061</td>\n",
       "      <td>Trails (Veredas)</td>\n",
       "      <td>(no genres listed)</td>\n",
       "      <td>1978</td>\n",
       "    </tr>\n",
       "    <tr>\n",
       "      <th>17409</th>\n",
       "      <td>91246</td>\n",
       "      <td>Milky Way (Tejút)</td>\n",
       "      <td>(no genres listed)</td>\n",
       "      <td>2007</td>\n",
       "    </tr>\n",
       "  </tbody>\n",
       "</table>\n",
       "</div>"
      ],
      "text/plain": [
       "       movieId                                     title              genres  \\\n",
       "15884    83773            Away with Words (San tiao ren)  (no genres listed)   \n",
       "16063    84768                                Glitterbug  (no genres listed)   \n",
       "16354    86493  Age of the Earth, The (A Idade da Terra)  (no genres listed)   \n",
       "16494    87061                          Trails (Veredas)  (no genres listed)   \n",
       "17409    91246                         Milky Way (Tejút)  (no genres listed)   \n",
       "\n",
       "       year  \n",
       "15884  1999  \n",
       "16063  1994  \n",
       "16354  1980  \n",
       "16494  1978  \n",
       "17409  2007  "
      ]
     },
     "execution_count": 7,
     "metadata": {},
     "output_type": "execute_result"
    }
   ],
   "source": [
    "movie[movie['genres']=='(no genres listed)'].head(5)"
   ]
  },
  {
   "cell_type": "code",
   "execution_count": 8,
   "id": "fd1056eb",
   "metadata": {},
   "outputs": [],
   "source": [
    "movie=movie[movie['genres']!='(no genres listed)']"
   ]
  },
  {
   "cell_type": "code",
   "execution_count": 9,
   "id": "5bc501cb",
   "metadata": {},
   "outputs": [
    {
     "data": {
      "text/html": [
       "<div>\n",
       "<style scoped>\n",
       "    .dataframe tbody tr th:only-of-type {\n",
       "        vertical-align: middle;\n",
       "    }\n",
       "\n",
       "    .dataframe tbody tr th {\n",
       "        vertical-align: top;\n",
       "    }\n",
       "\n",
       "    .dataframe thead th {\n",
       "        text-align: right;\n",
       "    }\n",
       "</style>\n",
       "<table border=\"1\" class=\"dataframe\">\n",
       "  <thead>\n",
       "    <tr style=\"text-align: right;\">\n",
       "      <th></th>\n",
       "      <th>movieId</th>\n",
       "      <th>title</th>\n",
       "      <th>genres</th>\n",
       "      <th>year</th>\n",
       "    </tr>\n",
       "  </thead>\n",
       "  <tbody>\n",
       "  </tbody>\n",
       "</table>\n",
       "</div>"
      ],
      "text/plain": [
       "Empty DataFrame\n",
       "Columns: [movieId, title, genres, year]\n",
       "Index: []"
      ]
     },
     "execution_count": 9,
     "metadata": {},
     "output_type": "execute_result"
    }
   ],
   "source": [
    "movie[movie['genres']=='(no genres listed)'].head(5)"
   ]
  },
  {
   "cell_type": "code",
   "execution_count": 10,
   "id": "ea6cd59f",
   "metadata": {},
   "outputs": [
    {
     "data": {
      "text/plain": [
       "0"
      ]
     },
     "execution_count": 10,
     "metadata": {},
     "output_type": "execute_result"
    }
   ],
   "source": [
    "movie['title'].isnull().sum()"
   ]
  },
  {
   "cell_type": "code",
   "execution_count": 11,
   "id": "a4f509a7",
   "metadata": {},
   "outputs": [
    {
     "data": {
      "text/plain": [
       "movieId      0\n",
       "title        0\n",
       "genres       0\n",
       "year       398\n",
       "dtype: int64"
      ]
     },
     "execution_count": 11,
     "metadata": {},
     "output_type": "execute_result"
    }
   ],
   "source": [
    "movie.isnull().sum()"
   ]
  },
  {
   "cell_type": "code",
   "execution_count": 12,
   "id": "574a885d",
   "metadata": {},
   "outputs": [],
   "source": [
    "rating=rating[['userId','movieId','rating']]"
   ]
  },
  {
   "cell_type": "code",
   "execution_count": 13,
   "id": "a5281d82",
   "metadata": {},
   "outputs": [
    {
     "data": {
      "text/plain": [
       "userId     0\n",
       "movieId    0\n",
       "rating     0\n",
       "dtype: int64"
      ]
     },
     "execution_count": 13,
     "metadata": {},
     "output_type": "execute_result"
    }
   ],
   "source": [
    "rating.isnull().sum()"
   ]
  },
  {
   "cell_type": "code",
   "execution_count": 14,
   "id": "65c3ee80",
   "metadata": {},
   "outputs": [
    {
     "data": {
      "text/html": [
       "<div>\n",
       "<style scoped>\n",
       "    .dataframe tbody tr th:only-of-type {\n",
       "        vertical-align: middle;\n",
       "    }\n",
       "\n",
       "    .dataframe tbody tr th {\n",
       "        vertical-align: top;\n",
       "    }\n",
       "\n",
       "    .dataframe thead th {\n",
       "        text-align: right;\n",
       "    }\n",
       "</style>\n",
       "<table border=\"1\" class=\"dataframe\">\n",
       "  <thead>\n",
       "    <tr style=\"text-align: right;\">\n",
       "      <th></th>\n",
       "      <th>movieId</th>\n",
       "      <th>title</th>\n",
       "      <th>genres</th>\n",
       "      <th>year</th>\n",
       "    </tr>\n",
       "  </thead>\n",
       "  <tbody>\n",
       "    <tr>\n",
       "      <th>28</th>\n",
       "      <td>29</td>\n",
       "      <td>City of Lost Children, The (Cité des enfants p...</td>\n",
       "      <td>Adventure,Drama,Fantasy,Mystery,Sci-Fi</td>\n",
       "      <td>1995</td>\n",
       "    </tr>\n",
       "    <tr>\n",
       "      <th>29</th>\n",
       "      <td>30</td>\n",
       "      <td>Shanghai Triad (Yao a yao yao dao waipo qiao)</td>\n",
       "      <td>Crime,Drama</td>\n",
       "      <td>1995</td>\n",
       "    </tr>\n",
       "    <tr>\n",
       "      <th>31</th>\n",
       "      <td>32</td>\n",
       "      <td>Twelve Monkeys (a.k.a. 12 Monkeys)</td>\n",
       "      <td>Mystery,Sci-Fi,Thriller</td>\n",
       "      <td>1995</td>\n",
       "    </tr>\n",
       "    <tr>\n",
       "      <th>46</th>\n",
       "      <td>47</td>\n",
       "      <td>Seven (a.k.a. Se7en)</td>\n",
       "      <td>Mystery,Thriller</td>\n",
       "      <td>1995</td>\n",
       "    </tr>\n",
       "    <tr>\n",
       "      <th>57</th>\n",
       "      <td>58</td>\n",
       "      <td>Postman, The (Postino, Il)</td>\n",
       "      <td>Comedy,Drama,Romance</td>\n",
       "      <td>1994</td>\n",
       "    </tr>\n",
       "    <tr>\n",
       "      <th>...</th>\n",
       "      <td>...</td>\n",
       "      <td>...</td>\n",
       "      <td>...</td>\n",
       "      <td>...</td>\n",
       "    </tr>\n",
       "    <tr>\n",
       "      <th>86363</th>\n",
       "      <td>288455</td>\n",
       "      <td>Landscape (for Manon)</td>\n",
       "      <td>Documentary</td>\n",
       "      <td>1987</td>\n",
       "    </tr>\n",
       "    <tr>\n",
       "      <th>86402</th>\n",
       "      <td>288569</td>\n",
       "      <td>The Five(ish) Doctors Reboot</td>\n",
       "      <td>Comedy</td>\n",
       "      <td>2013</td>\n",
       "    </tr>\n",
       "    <tr>\n",
       "      <th>86693</th>\n",
       "      <td>289519</td>\n",
       "      <td>Kamikazen (Ultima notte a Milano)</td>\n",
       "      <td>Comedy</td>\n",
       "      <td>1988</td>\n",
       "    </tr>\n",
       "    <tr>\n",
       "      <th>86726</th>\n",
       "      <td>289627</td>\n",
       "      <td>Blank Narcissus (Passion of the Swamp)</td>\n",
       "      <td>Drama</td>\n",
       "      <td>2022</td>\n",
       "    </tr>\n",
       "    <tr>\n",
       "      <th>87000</th>\n",
       "      <td>290495</td>\n",
       "      <td>The (Almost) Legends</td>\n",
       "      <td>Comedy</td>\n",
       "      <td>2023</td>\n",
       "    </tr>\n",
       "  </tbody>\n",
       "</table>\n",
       "<p>4941 rows × 4 columns</p>\n",
       "</div>"
      ],
      "text/plain": [
       "       movieId                                              title  \\\n",
       "28          29  City of Lost Children, The (Cité des enfants p...   \n",
       "29          30      Shanghai Triad (Yao a yao yao dao waipo qiao)   \n",
       "31          32                 Twelve Monkeys (a.k.a. 12 Monkeys)   \n",
       "46          47                               Seven (a.k.a. Se7en)   \n",
       "57          58                         Postman, The (Postino, Il)   \n",
       "...        ...                                                ...   \n",
       "86363   288455                              Landscape (for Manon)   \n",
       "86402   288569                       The Five(ish) Doctors Reboot   \n",
       "86693   289519                  Kamikazen (Ultima notte a Milano)   \n",
       "86726   289627             Blank Narcissus (Passion of the Swamp)   \n",
       "87000   290495                               The (Almost) Legends   \n",
       "\n",
       "                                       genres  year  \n",
       "28     Adventure,Drama,Fantasy,Mystery,Sci-Fi  1995  \n",
       "29                                Crime,Drama  1995  \n",
       "31                    Mystery,Sci-Fi,Thriller  1995  \n",
       "46                           Mystery,Thriller  1995  \n",
       "57                       Comedy,Drama,Romance  1994  \n",
       "...                                       ...   ...  \n",
       "86363                             Documentary  1987  \n",
       "86402                                  Comedy  2013  \n",
       "86693                                  Comedy  1988  \n",
       "86726                                   Drama  2022  \n",
       "87000                                  Comedy  2023  \n",
       "\n",
       "[4941 rows x 4 columns]"
      ]
     },
     "execution_count": 14,
     "metadata": {},
     "output_type": "execute_result"
    }
   ],
   "source": [
    "movie[movie['title'].str.contains(r'\\(.*?\\)', regex=True,na=False)]\n"
   ]
  },
  {
   "cell_type": "code",
   "execution_count": 15,
   "id": "412e0c86",
   "metadata": {},
   "outputs": [
    {
     "data": {
      "text/html": [
       "<div>\n",
       "<style scoped>\n",
       "    .dataframe tbody tr th:only-of-type {\n",
       "        vertical-align: middle;\n",
       "    }\n",
       "\n",
       "    .dataframe tbody tr th {\n",
       "        vertical-align: top;\n",
       "    }\n",
       "\n",
       "    .dataframe thead th {\n",
       "        text-align: right;\n",
       "    }\n",
       "</style>\n",
       "<table border=\"1\" class=\"dataframe\">\n",
       "  <thead>\n",
       "    <tr style=\"text-align: right;\">\n",
       "      <th></th>\n",
       "      <th>movieId</th>\n",
       "      <th>title</th>\n",
       "      <th>genres</th>\n",
       "      <th>year</th>\n",
       "    </tr>\n",
       "  </thead>\n",
       "  <tbody>\n",
       "    <tr>\n",
       "      <th>0</th>\n",
       "      <td>1</td>\n",
       "      <td>Toy Story</td>\n",
       "      <td>Adventure,Animation,Children,Comedy,Fantasy</td>\n",
       "      <td>1995</td>\n",
       "    </tr>\n",
       "    <tr>\n",
       "      <th>1</th>\n",
       "      <td>2</td>\n",
       "      <td>Jumanji</td>\n",
       "      <td>Adventure,Children,Fantasy</td>\n",
       "      <td>1995</td>\n",
       "    </tr>\n",
       "    <tr>\n",
       "      <th>2</th>\n",
       "      <td>3</td>\n",
       "      <td>Grumpier Old Men</td>\n",
       "      <td>Comedy,Romance</td>\n",
       "      <td>1995</td>\n",
       "    </tr>\n",
       "    <tr>\n",
       "      <th>3</th>\n",
       "      <td>4</td>\n",
       "      <td>Waiting to Exhale</td>\n",
       "      <td>Comedy,Drama,Romance</td>\n",
       "      <td>1995</td>\n",
       "    </tr>\n",
       "    <tr>\n",
       "      <th>4</th>\n",
       "      <td>5</td>\n",
       "      <td>Father of the Bride Part II</td>\n",
       "      <td>Comedy</td>\n",
       "      <td>1995</td>\n",
       "    </tr>\n",
       "  </tbody>\n",
       "</table>\n",
       "</div>"
      ],
      "text/plain": [
       "   movieId                        title  \\\n",
       "0        1                    Toy Story   \n",
       "1        2                      Jumanji   \n",
       "2        3             Grumpier Old Men   \n",
       "3        4            Waiting to Exhale   \n",
       "4        5  Father of the Bride Part II   \n",
       "\n",
       "                                        genres  year  \n",
       "0  Adventure,Animation,Children,Comedy,Fantasy  1995  \n",
       "1                   Adventure,Children,Fantasy  1995  \n",
       "2                               Comedy,Romance  1995  \n",
       "3                         Comedy,Drama,Romance  1995  \n",
       "4                                       Comedy  1995  "
      ]
     },
     "execution_count": 15,
     "metadata": {},
     "output_type": "execute_result"
    }
   ],
   "source": [
    "movie['title'] = movie['title'].str.replace(r'\\s?\\(.*?\\)', '', regex=True)\n",
    "movie.head(5)"
   ]
  },
  {
   "cell_type": "code",
   "execution_count": 16,
   "id": "35d50f89",
   "metadata": {},
   "outputs": [],
   "source": [
    "movie=movie.merge(rating,on='movieId')"
   ]
  },
  {
   "cell_type": "code",
   "execution_count": 17,
   "id": "f7a48e17",
   "metadata": {},
   "outputs": [],
   "source": [
    "if 'genres' in movie.columns and 'year' in movie.columns:\n",
    "    movie['tag'] = movie['genres'] + ',' + movie['year'].astype(str)\n",
    "else:\n",
    "    pass"
   ]
  },
  {
   "cell_type": "code",
   "execution_count": 18,
   "id": "c03e35fd",
   "metadata": {},
   "outputs": [
    {
     "data": {
      "text/html": [
       "<div>\n",
       "<style scoped>\n",
       "    .dataframe tbody tr th:only-of-type {\n",
       "        vertical-align: middle;\n",
       "    }\n",
       "\n",
       "    .dataframe tbody tr th {\n",
       "        vertical-align: top;\n",
       "    }\n",
       "\n",
       "    .dataframe thead th {\n",
       "        text-align: right;\n",
       "    }\n",
       "</style>\n",
       "<table border=\"1\" class=\"dataframe\">\n",
       "  <thead>\n",
       "    <tr style=\"text-align: right;\">\n",
       "      <th></th>\n",
       "      <th>movieId</th>\n",
       "      <th>title</th>\n",
       "      <th>genres</th>\n",
       "      <th>year</th>\n",
       "      <th>userId</th>\n",
       "      <th>rating</th>\n",
       "      <th>tag</th>\n",
       "    </tr>\n",
       "  </thead>\n",
       "  <tbody>\n",
       "    <tr>\n",
       "      <th>0</th>\n",
       "      <td>1</td>\n",
       "      <td>Toy Story</td>\n",
       "      <td>Adventure,Animation,Children,Comedy,Fantasy</td>\n",
       "      <td>1995</td>\n",
       "      <td>10</td>\n",
       "      <td>2.5</td>\n",
       "      <td>Adventure,Animation,Children,Comedy,Fantasy,1995</td>\n",
       "    </tr>\n",
       "    <tr>\n",
       "      <th>1</th>\n",
       "      <td>1</td>\n",
       "      <td>Toy Story</td>\n",
       "      <td>Adventure,Animation,Children,Comedy,Fantasy</td>\n",
       "      <td>1995</td>\n",
       "      <td>11</td>\n",
       "      <td>3.0</td>\n",
       "      <td>Adventure,Animation,Children,Comedy,Fantasy,1995</td>\n",
       "    </tr>\n",
       "    <tr>\n",
       "      <th>2</th>\n",
       "      <td>1</td>\n",
       "      <td>Toy Story</td>\n",
       "      <td>Adventure,Animation,Children,Comedy,Fantasy</td>\n",
       "      <td>1995</td>\n",
       "      <td>17</td>\n",
       "      <td>4.0</td>\n",
       "      <td>Adventure,Animation,Children,Comedy,Fantasy,1995</td>\n",
       "    </tr>\n",
       "    <tr>\n",
       "      <th>3</th>\n",
       "      <td>1</td>\n",
       "      <td>Toy Story</td>\n",
       "      <td>Adventure,Animation,Children,Comedy,Fantasy</td>\n",
       "      <td>1995</td>\n",
       "      <td>19</td>\n",
       "      <td>3.0</td>\n",
       "      <td>Adventure,Animation,Children,Comedy,Fantasy,1995</td>\n",
       "    </tr>\n",
       "    <tr>\n",
       "      <th>4</th>\n",
       "      <td>1</td>\n",
       "      <td>Toy Story</td>\n",
       "      <td>Adventure,Animation,Children,Comedy,Fantasy</td>\n",
       "      <td>1995</td>\n",
       "      <td>20</td>\n",
       "      <td>5.0</td>\n",
       "      <td>Adventure,Animation,Children,Comedy,Fantasy,1995</td>\n",
       "    </tr>\n",
       "  </tbody>\n",
       "</table>\n",
       "</div>"
      ],
      "text/plain": [
       "   movieId      title                                       genres  year  \\\n",
       "0        1  Toy Story  Adventure,Animation,Children,Comedy,Fantasy  1995   \n",
       "1        1  Toy Story  Adventure,Animation,Children,Comedy,Fantasy  1995   \n",
       "2        1  Toy Story  Adventure,Animation,Children,Comedy,Fantasy  1995   \n",
       "3        1  Toy Story  Adventure,Animation,Children,Comedy,Fantasy  1995   \n",
       "4        1  Toy Story  Adventure,Animation,Children,Comedy,Fantasy  1995   \n",
       "\n",
       "   userId  rating                                               tag  \n",
       "0      10     2.5  Adventure,Animation,Children,Comedy,Fantasy,1995  \n",
       "1      11     3.0  Adventure,Animation,Children,Comedy,Fantasy,1995  \n",
       "2      17     4.0  Adventure,Animation,Children,Comedy,Fantasy,1995  \n",
       "3      19     3.0  Adventure,Animation,Children,Comedy,Fantasy,1995  \n",
       "4      20     5.0  Adventure,Animation,Children,Comedy,Fantasy,1995  "
      ]
     },
     "execution_count": 18,
     "metadata": {},
     "output_type": "execute_result"
    }
   ],
   "source": [
    "movie.head(5)"
   ]
  },
  {
   "cell_type": "code",
   "execution_count": 19,
   "id": "f9acc94f",
   "metadata": {},
   "outputs": [
    {
     "data": {
      "text/plain": [
       "0"
      ]
     },
     "execution_count": 19,
     "metadata": {},
     "output_type": "execute_result"
    }
   ],
   "source": [
    "movie['tag'].isnull().sum()"
   ]
  },
  {
   "cell_type": "code",
   "execution_count": 20,
   "id": "b21a290b",
   "metadata": {},
   "outputs": [],
   "source": [
    "movie=movie[['movieId','userId','rating','title','tag','year']]"
   ]
  },
  {
   "cell_type": "code",
   "execution_count": 21,
   "id": "5c0ab912",
   "metadata": {},
   "outputs": [
    {
     "data": {
      "text/plain": [
       "((31944706, 6), (32000204, 3))"
      ]
     },
     "execution_count": 21,
     "metadata": {},
     "output_type": "execute_result"
    }
   ],
   "source": [
    "movie.shape,rating.shape"
   ]
  },
  {
   "cell_type": "code",
   "execution_count": 22,
   "id": "b61618f0",
   "metadata": {},
   "outputs": [
    {
     "data": {
      "text/html": [
       "<div>\n",
       "<style scoped>\n",
       "    .dataframe tbody tr th:only-of-type {\n",
       "        vertical-align: middle;\n",
       "    }\n",
       "\n",
       "    .dataframe tbody tr th {\n",
       "        vertical-align: top;\n",
       "    }\n",
       "\n",
       "    .dataframe thead th {\n",
       "        text-align: right;\n",
       "    }\n",
       "</style>\n",
       "<table border=\"1\" class=\"dataframe\">\n",
       "  <thead>\n",
       "    <tr style=\"text-align: right;\">\n",
       "      <th></th>\n",
       "      <th>movieId</th>\n",
       "      <th>userId</th>\n",
       "      <th>rating</th>\n",
       "      <th>title</th>\n",
       "      <th>tag</th>\n",
       "      <th>year</th>\n",
       "    </tr>\n",
       "  </thead>\n",
       "  <tbody>\n",
       "    <tr>\n",
       "      <th>31944701</th>\n",
       "      <td>292731</td>\n",
       "      <td>50685</td>\n",
       "      <td>4.0</td>\n",
       "      <td>The Monroy Affaire</td>\n",
       "      <td>Drama,2022</td>\n",
       "      <td>2022</td>\n",
       "    </tr>\n",
       "    <tr>\n",
       "      <th>31944702</th>\n",
       "      <td>292737</td>\n",
       "      <td>165364</td>\n",
       "      <td>1.5</td>\n",
       "      <td>Shelter in Solitude</td>\n",
       "      <td>Comedy,Drama,2023</td>\n",
       "      <td>2023</td>\n",
       "    </tr>\n",
       "    <tr>\n",
       "      <th>31944703</th>\n",
       "      <td>292753</td>\n",
       "      <td>150812</td>\n",
       "      <td>4.0</td>\n",
       "      <td>Orca</td>\n",
       "      <td>Drama,2023</td>\n",
       "      <td>2023</td>\n",
       "    </tr>\n",
       "    <tr>\n",
       "      <th>31944704</th>\n",
       "      <td>292755</td>\n",
       "      <td>91097</td>\n",
       "      <td>1.0</td>\n",
       "      <td>The Angry Breed</td>\n",
       "      <td>Drama,1968</td>\n",
       "      <td>1968</td>\n",
       "    </tr>\n",
       "    <tr>\n",
       "      <th>31944705</th>\n",
       "      <td>292757</td>\n",
       "      <td>171418</td>\n",
       "      <td>3.5</td>\n",
       "      <td>Race to the Summit</td>\n",
       "      <td>Action,Adventure,Documentary,2023</td>\n",
       "      <td>2023</td>\n",
       "    </tr>\n",
       "  </tbody>\n",
       "</table>\n",
       "</div>"
      ],
      "text/plain": [
       "          movieId  userId  rating                title  \\\n",
       "31944701   292731   50685     4.0   The Monroy Affaire   \n",
       "31944702   292737  165364     1.5  Shelter in Solitude   \n",
       "31944703   292753  150812     4.0                 Orca   \n",
       "31944704   292755   91097     1.0      The Angry Breed   \n",
       "31944705   292757  171418     3.5   Race to the Summit   \n",
       "\n",
       "                                        tag  year  \n",
       "31944701                         Drama,2022  2022  \n",
       "31944702                  Comedy,Drama,2023  2023  \n",
       "31944703                         Drama,2023  2023  \n",
       "31944704                         Drama,1968  1968  \n",
       "31944705  Action,Adventure,Documentary,2023  2023  "
      ]
     },
     "execution_count": 22,
     "metadata": {},
     "output_type": "execute_result"
    }
   ],
   "source": [
    "movie.tail(5)"
   ]
  },
  {
   "cell_type": "code",
   "execution_count": 23,
   "id": "984f47f3",
   "metadata": {},
   "outputs": [
    {
     "data": {
      "text/plain": [
       "rating\n",
       "4.0    8356872\n",
       "3.0    6046002\n",
       "5.0    4589827\n",
       "3.5    4280506\n",
       "4.5    2968212\n",
       "2.0    2025295\n",
       "2.5    1680799\n",
       "1.0     944902\n",
       "1.5     529468\n",
       "0.5     522823\n",
       "Name: count, dtype: int64"
      ]
     },
     "execution_count": 23,
     "metadata": {},
     "output_type": "execute_result"
    }
   ],
   "source": [
    "movie['rating'].value_counts()"
   ]
  },
  {
   "cell_type": "code",
   "execution_count": 24,
   "id": "3752608f",
   "metadata": {},
   "outputs": [
    {
     "data": {
      "text/plain": [
       "movieId        0\n",
       "userId         0\n",
       "rating         0\n",
       "title          0\n",
       "tag            0\n",
       "year       30820\n",
       "dtype: int64"
      ]
     },
     "execution_count": 24,
     "metadata": {},
     "output_type": "execute_result"
    }
   ],
   "source": [
    "movie.isnull().sum()"
   ]
  },
  {
   "cell_type": "code",
   "execution_count": 25,
   "id": "2801280f",
   "metadata": {},
   "outputs": [
    {
     "data": {
      "text/plain": [
       "292757"
      ]
     },
     "execution_count": 25,
     "metadata": {},
     "output_type": "execute_result"
    }
   ],
   "source": [
    "movie['movieId'].max()"
   ]
  },
  {
   "cell_type": "code",
   "execution_count": 26,
   "id": "40de1741",
   "metadata": {},
   "outputs": [
    {
     "data": {
      "text/plain": [
       "Index(['movieId', 'userId', 'rating', 'title', 'tag', 'year'], dtype='object')"
      ]
     },
     "execution_count": 26,
     "metadata": {},
     "output_type": "execute_result"
    }
   ],
   "source": [
    "movie.columns"
   ]
  },
  {
   "cell_type": "code",
   "execution_count": 27,
   "id": "424ebc4b",
   "metadata": {},
   "outputs": [],
   "source": [
    "movie_copy=movie.copy()"
   ]
  },
  {
   "cell_type": "code",
   "execution_count": 28,
   "id": "b56b3d8e",
   "metadata": {},
   "outputs": [],
   "source": [
    "movie = movie.drop_duplicates(subset='movieId', keep='first').reset_index(drop=True)"
   ]
  },
  {
   "cell_type": "code",
   "execution_count": 29,
   "id": "30e4bcb5",
   "metadata": {},
   "outputs": [
    {
     "data": {
      "text/plain": [
       "(77877, 6)"
      ]
     },
     "execution_count": 29,
     "metadata": {},
     "output_type": "execute_result"
    }
   ],
   "source": [
    "movie.shape"
   ]
  },
  {
   "cell_type": "code",
   "execution_count": 30,
   "id": "6c475b43",
   "metadata": {},
   "outputs": [
    {
     "data": {
      "text/html": [
       "<div>\n",
       "<style scoped>\n",
       "    .dataframe tbody tr th:only-of-type {\n",
       "        vertical-align: middle;\n",
       "    }\n",
       "\n",
       "    .dataframe tbody tr th {\n",
       "        vertical-align: top;\n",
       "    }\n",
       "\n",
       "    .dataframe thead th {\n",
       "        text-align: right;\n",
       "    }\n",
       "</style>\n",
       "<table border=\"1\" class=\"dataframe\">\n",
       "  <thead>\n",
       "    <tr style=\"text-align: right;\">\n",
       "      <th></th>\n",
       "      <th>movieId</th>\n",
       "      <th>userId</th>\n",
       "      <th>rating</th>\n",
       "      <th>title</th>\n",
       "      <th>tag</th>\n",
       "      <th>year</th>\n",
       "    </tr>\n",
       "  </thead>\n",
       "  <tbody>\n",
       "    <tr>\n",
       "      <th>0</th>\n",
       "      <td>1</td>\n",
       "      <td>10</td>\n",
       "      <td>2.5</td>\n",
       "      <td>Toy Story</td>\n",
       "      <td>Adventure,Animation,Children,Comedy,Fantasy,1995</td>\n",
       "      <td>1995</td>\n",
       "    </tr>\n",
       "    <tr>\n",
       "      <th>1</th>\n",
       "      <td>2</td>\n",
       "      <td>3</td>\n",
       "      <td>3.5</td>\n",
       "      <td>Jumanji</td>\n",
       "      <td>Adventure,Children,Fantasy,1995</td>\n",
       "      <td>1995</td>\n",
       "    </tr>\n",
       "  </tbody>\n",
       "</table>\n",
       "</div>"
      ],
      "text/plain": [
       "   movieId  userId  rating      title  \\\n",
       "0        1      10     2.5  Toy Story   \n",
       "1        2       3     3.5    Jumanji   \n",
       "\n",
       "                                                tag  year  \n",
       "0  Adventure,Animation,Children,Comedy,Fantasy,1995  1995  \n",
       "1                   Adventure,Children,Fantasy,1995  1995  "
      ]
     },
     "execution_count": 30,
     "metadata": {},
     "output_type": "execute_result"
    }
   ],
   "source": [
    "movie.head(2)"
   ]
  },
  {
   "cell_type": "code",
   "execution_count": 31,
   "id": "bd111a62",
   "metadata": {},
   "outputs": [
    {
     "data": {
      "text/plain": [
       "1    Adventure,Children,Fantasy,1995\n",
       "2                Comedy,Romance,1995\n",
       "3          Comedy,Drama,Romance,1995\n",
       "4                        Comedy,1995\n",
       "Name: tag, dtype: object"
      ]
     },
     "execution_count": 31,
     "metadata": {},
     "output_type": "execute_result"
    }
   ],
   "source": [
    "movie['tag'][1:5]"
   ]
  },
  {
   "cell_type": "markdown",
   "id": "ac63c14f",
   "metadata": {},
   "source": [
    "# Content-Based Filtering (CBF)¶"
   ]
  },
  {
   "cell_type": "code",
   "execution_count": 32,
   "id": "d4f892de",
   "metadata": {},
   "outputs": [],
   "source": [
    "from sklearn.feature_extraction.text import TfidfVectorizer\n",
    "tfidf = TfidfVectorizer(stop_words='english')"
   ]
  },
  {
   "cell_type": "code",
   "execution_count": 33,
   "id": "937525ea",
   "metadata": {},
   "outputs": [
    {
     "data": {
      "text/plain": [
       "(31944706, 6)"
      ]
     },
     "execution_count": 33,
     "metadata": {},
     "output_type": "execute_result"
    }
   ],
   "source": [
    "movie_copy.shape"
   ]
  },
  {
   "cell_type": "code",
   "execution_count": 34,
   "id": "dec4d73f",
   "metadata": {},
   "outputs": [
    {
     "data": {
      "text/plain": [
       "array(['1874', '1878', '1880', '1882', '1885', '1887', '1888', '1889',\n",
       "       '1890', '1891', '1892', '1894', '1895', '1896', '1897', '1898',\n",
       "       '1899', '1900', '1901', '1902', '1903', '1904', '1905', '1906',\n",
       "       '1907', '1908', '1909', '1910', '1911', '1912', '1913', '1914',\n",
       "       '1915', '1916', '1917', '1918', '1919', '1920', '1921', '1922',\n",
       "       '1923', '1924', '1925', '1926', '1927', '1928', '1929', '1930',\n",
       "       '1931', '1932', '1933', '1934', '1935', '1936', '1937', '1938',\n",
       "       '1939', '1940', '1941', '1942', '1943', '1944', '1945', '1946',\n",
       "       '1947', '1948', '1949', '1950', '1951', '1952', '1953', '1954',\n",
       "       '1955', '1956', '1957', '1958', '1959', '1960', '1961', '1962',\n",
       "       '1963', '1964', '1965', '1966', '1967', '1968', '1969', '1970',\n",
       "       '1971', '1972', '1973', '1974', '1975', '1976', '1977', '1978',\n",
       "       '1979', '1980', '1981', '1982', '1983', '1984', '1985', '1986',\n",
       "       '1987', '1988', '1989', '1990', '1991', '1992', '1993', '1994',\n",
       "       '1995', '1996', '1997', '1998', '1999', '2000', '2001', '2002',\n",
       "       '2003', '2004', '2005', '2006', '2007', '2008', '2009', '2010',\n",
       "       '2011', '2012', '2013', '2014', '2015', '2016', '2017', '2018',\n",
       "       '2019', '2020', '2021', '2022', '2023', 'action', 'adventure',\n",
       "       'animation', 'children', 'comedy', 'crime', 'documentary', 'drama',\n",
       "       'fantasy', 'fi', 'film', 'horror', 'imax', 'musical', 'mystery',\n",
       "       'nan', 'noir', 'romance', 'sci', 'thriller', 'war', 'western'],\n",
       "      dtype=object)"
      ]
     },
     "execution_count": 34,
     "metadata": {},
     "output_type": "execute_result"
    }
   ],
   "source": [
    "movie_tfidf_matrix =tfidf.fit_transform(movie_copy['tag'])\n",
    "tfidf.get_feature_names_out()"
   ]
  },
  {
   "cell_type": "code",
   "execution_count": 35,
   "id": "73a0ef6e",
   "metadata": {},
   "outputs": [
    {
     "data": {
      "text/plain": [
       "(31944706, 163)"
      ]
     },
     "execution_count": 35,
     "metadata": {},
     "output_type": "execute_result"
    }
   ],
   "source": [
    "movie_tfidf_matrix.shape"
   ]
  },
  {
   "cell_type": "code",
   "execution_count": 36,
   "id": "35a1b814",
   "metadata": {},
   "outputs": [],
   "source": [
    "movie['year'] = movie['year'].fillna(0).astype(int)  \n"
   ]
  },
  {
   "cell_type": "code",
   "execution_count": 37,
   "id": "0eff40f3",
   "metadata": {},
   "outputs": [
    {
     "data": {
      "text/html": [
       "<div>\n",
       "<style scoped>\n",
       "    .dataframe tbody tr th:only-of-type {\n",
       "        vertical-align: middle;\n",
       "    }\n",
       "\n",
       "    .dataframe tbody tr th {\n",
       "        vertical-align: top;\n",
       "    }\n",
       "\n",
       "    .dataframe thead th {\n",
       "        text-align: right;\n",
       "    }\n",
       "</style>\n",
       "<table border=\"1\" class=\"dataframe\">\n",
       "  <thead>\n",
       "    <tr style=\"text-align: right;\">\n",
       "      <th></th>\n",
       "      <th>movieId</th>\n",
       "      <th>userId</th>\n",
       "      <th>rating</th>\n",
       "      <th>title</th>\n",
       "      <th>tag</th>\n",
       "      <th>year</th>\n",
       "    </tr>\n",
       "  </thead>\n",
       "  <tbody>\n",
       "    <tr>\n",
       "      <th>0</th>\n",
       "      <td>1</td>\n",
       "      <td>10</td>\n",
       "      <td>2.5</td>\n",
       "      <td>Toy Story</td>\n",
       "      <td>Adventure,Animation,Children,Comedy,Fantasy,1995</td>\n",
       "      <td>1995</td>\n",
       "    </tr>\n",
       "    <tr>\n",
       "      <th>1</th>\n",
       "      <td>2</td>\n",
       "      <td>3</td>\n",
       "      <td>3.5</td>\n",
       "      <td>Jumanji</td>\n",
       "      <td>Adventure,Children,Fantasy,1995</td>\n",
       "      <td>1995</td>\n",
       "    </tr>\n",
       "    <tr>\n",
       "      <th>2</th>\n",
       "      <td>3</td>\n",
       "      <td>11</td>\n",
       "      <td>3.0</td>\n",
       "      <td>Grumpier Old Men</td>\n",
       "      <td>Comedy,Romance,1995</td>\n",
       "      <td>1995</td>\n",
       "    </tr>\n",
       "    <tr>\n",
       "      <th>3</th>\n",
       "      <td>4</td>\n",
       "      <td>29</td>\n",
       "      <td>2.0</td>\n",
       "      <td>Waiting to Exhale</td>\n",
       "      <td>Comedy,Drama,Romance,1995</td>\n",
       "      <td>1995</td>\n",
       "    </tr>\n",
       "    <tr>\n",
       "      <th>4</th>\n",
       "      <td>5</td>\n",
       "      <td>11</td>\n",
       "      <td>3.0</td>\n",
       "      <td>Father of the Bride Part II</td>\n",
       "      <td>Comedy,1995</td>\n",
       "      <td>1995</td>\n",
       "    </tr>\n",
       "  </tbody>\n",
       "</table>\n",
       "</div>"
      ],
      "text/plain": [
       "   movieId  userId  rating                        title  \\\n",
       "0        1      10     2.5                    Toy Story   \n",
       "1        2       3     3.5                      Jumanji   \n",
       "2        3      11     3.0             Grumpier Old Men   \n",
       "3        4      29     2.0            Waiting to Exhale   \n",
       "4        5      11     3.0  Father of the Bride Part II   \n",
       "\n",
       "                                                tag  year  \n",
       "0  Adventure,Animation,Children,Comedy,Fantasy,1995  1995  \n",
       "1                   Adventure,Children,Fantasy,1995  1995  \n",
       "2                               Comedy,Romance,1995  1995  \n",
       "3                         Comedy,Drama,Romance,1995  1995  \n",
       "4                                       Comedy,1995  1995  "
      ]
     },
     "execution_count": 37,
     "metadata": {},
     "output_type": "execute_result"
    }
   ],
   "source": [
    "movie.head(5)"
   ]
  },
  {
   "cell_type": "code",
   "execution_count": 38,
   "id": "7dc06af5",
   "metadata": {},
   "outputs": [
    {
     "data": {
      "text/html": [
       "<div>\n",
       "<style scoped>\n",
       "    .dataframe tbody tr th:only-of-type {\n",
       "        vertical-align: middle;\n",
       "    }\n",
       "\n",
       "    .dataframe tbody tr th {\n",
       "        vertical-align: top;\n",
       "    }\n",
       "\n",
       "    .dataframe thead th {\n",
       "        text-align: right;\n",
       "    }\n",
       "</style>\n",
       "<table border=\"1\" class=\"dataframe\">\n",
       "  <thead>\n",
       "    <tr style=\"text-align: right;\">\n",
       "      <th></th>\n",
       "      <th>movieId</th>\n",
       "      <th>userId</th>\n",
       "      <th>rating</th>\n",
       "      <th>title</th>\n",
       "      <th>tag</th>\n",
       "      <th>year</th>\n",
       "    </tr>\n",
       "  </thead>\n",
       "  <tbody>\n",
       "    <tr>\n",
       "      <th>8</th>\n",
       "      <td>9</td>\n",
       "      <td>96</td>\n",
       "      <td>5.0</td>\n",
       "      <td>Sudden Death</td>\n",
       "      <td>Action,1995</td>\n",
       "      <td>1995</td>\n",
       "    </tr>\n",
       "    <tr>\n",
       "      <th>20</th>\n",
       "      <td>21</td>\n",
       "      <td>7</td>\n",
       "      <td>5.0</td>\n",
       "      <td>Get Shorty</td>\n",
       "      <td>Comedy,Crime,Thriller,1995</td>\n",
       "      <td>1995</td>\n",
       "    </tr>\n",
       "    <tr>\n",
       "      <th>29</th>\n",
       "      <td>30</td>\n",
       "      <td>1</td>\n",
       "      <td>5.0</td>\n",
       "      <td>Shanghai Triad</td>\n",
       "      <td>Crime,Drama,1995</td>\n",
       "      <td>1995</td>\n",
       "    </tr>\n",
       "    <tr>\n",
       "      <th>30</th>\n",
       "      <td>31</td>\n",
       "      <td>2</td>\n",
       "      <td>5.0</td>\n",
       "      <td>Dangerous Minds</td>\n",
       "      <td>Drama,1995</td>\n",
       "      <td>1995</td>\n",
       "    </tr>\n",
       "    <tr>\n",
       "      <th>31</th>\n",
       "      <td>32</td>\n",
       "      <td>1</td>\n",
       "      <td>5.0</td>\n",
       "      <td>Twelve Monkeys</td>\n",
       "      <td>Mystery,Sci-Fi,Thriller,1995</td>\n",
       "      <td>1995</td>\n",
       "    </tr>\n",
       "    <tr>\n",
       "      <th>...</th>\n",
       "      <td>...</td>\n",
       "      <td>...</td>\n",
       "      <td>...</td>\n",
       "      <td>...</td>\n",
       "      <td>...</td>\n",
       "      <td>...</td>\n",
       "    </tr>\n",
       "    <tr>\n",
       "      <th>77755</th>\n",
       "      <td>291831</td>\n",
       "      <td>169558</td>\n",
       "      <td>5.0</td>\n",
       "      <td>Retreat to You</td>\n",
       "      <td>Comedy,Romance,2023</td>\n",
       "      <td>2023</td>\n",
       "    </tr>\n",
       "    <tr>\n",
       "      <th>77784</th>\n",
       "      <td>291901</td>\n",
       "      <td>41450</td>\n",
       "      <td>5.0</td>\n",
       "      <td>Snapshot of Love</td>\n",
       "      <td>Comedy,Romance,2022</td>\n",
       "      <td>2022</td>\n",
       "    </tr>\n",
       "    <tr>\n",
       "      <th>77791</th>\n",
       "      <td>291975</td>\n",
       "      <td>169558</td>\n",
       "      <td>5.0</td>\n",
       "      <td>Centurion: The Dancing Stallion</td>\n",
       "      <td>Drama,2023</td>\n",
       "      <td>2023</td>\n",
       "    </tr>\n",
       "    <tr>\n",
       "      <th>77792</th>\n",
       "      <td>291977</td>\n",
       "      <td>169558</td>\n",
       "      <td>5.0</td>\n",
       "      <td>Taken In Montana</td>\n",
       "      <td>Thriller,2023</td>\n",
       "      <td>2023</td>\n",
       "    </tr>\n",
       "    <tr>\n",
       "      <th>77794</th>\n",
       "      <td>291981</td>\n",
       "      <td>169558</td>\n",
       "      <td>5.0</td>\n",
       "      <td>Abducted by My Teacher: The Elizabeth Thomas S...</td>\n",
       "      <td>Crime,Thriller,2023</td>\n",
       "      <td>2023</td>\n",
       "    </tr>\n",
       "  </tbody>\n",
       "</table>\n",
       "<p>3928 rows × 6 columns</p>\n",
       "</div>"
      ],
      "text/plain": [
       "       movieId  userId  rating  \\\n",
       "8            9      96     5.0   \n",
       "20          21       7     5.0   \n",
       "29          30       1     5.0   \n",
       "30          31       2     5.0   \n",
       "31          32       1     5.0   \n",
       "...        ...     ...     ...   \n",
       "77755   291831  169558     5.0   \n",
       "77784   291901   41450     5.0   \n",
       "77791   291975  169558     5.0   \n",
       "77792   291977  169558     5.0   \n",
       "77794   291981  169558     5.0   \n",
       "\n",
       "                                                   title  \\\n",
       "8                                           Sudden Death   \n",
       "20                                            Get Shorty   \n",
       "29                                        Shanghai Triad   \n",
       "30                                       Dangerous Minds   \n",
       "31                                        Twelve Monkeys   \n",
       "...                                                  ...   \n",
       "77755                                     Retreat to You   \n",
       "77784                                   Snapshot of Love   \n",
       "77791                    Centurion: The Dancing Stallion   \n",
       "77792                                   Taken In Montana   \n",
       "77794  Abducted by My Teacher: The Elizabeth Thomas S...   \n",
       "\n",
       "                                tag  year  \n",
       "8                       Action,1995  1995  \n",
       "20       Comedy,Crime,Thriller,1995  1995  \n",
       "29                 Crime,Drama,1995  1995  \n",
       "30                       Drama,1995  1995  \n",
       "31     Mystery,Sci-Fi,Thriller,1995  1995  \n",
       "...                             ...   ...  \n",
       "77755           Comedy,Romance,2023  2023  \n",
       "77784           Comedy,Romance,2022  2022  \n",
       "77791                    Drama,2023  2023  \n",
       "77792                 Thriller,2023  2023  \n",
       "77794           Crime,Thriller,2023  2023  \n",
       "\n",
       "[3928 rows x 6 columns]"
      ]
     },
     "execution_count": 38,
     "metadata": {},
     "output_type": "execute_result"
    }
   ],
   "source": [
    "five_star_ratings = movie[(movie['rating']>=5) & (movie['year']>1990)]\n",
    "\n",
    "five_star_ratings"
   ]
  },
  {
   "cell_type": "code",
   "execution_count": 39,
   "id": "66ff7677",
   "metadata": {},
   "outputs": [
    {
     "data": {
      "text/plain": [
       "movieId\n",
       "9         1\n",
       "21        1\n",
       "30        1\n",
       "31        1\n",
       "32        1\n",
       "         ..\n",
       "291831    1\n",
       "291901    1\n",
       "291975    1\n",
       "291977    1\n",
       "291981    1\n",
       "Name: userId, Length: 3928, dtype: int64"
      ]
     },
     "execution_count": 39,
     "metadata": {},
     "output_type": "execute_result"
    }
   ],
   "source": [
    "movie_user_counts = five_star_ratings.groupby('movieId')['userId'].count()\n",
    "movie_user_counts"
   ]
  },
  {
   "cell_type": "code",
   "execution_count": 40,
   "id": "16b2ecbf",
   "metadata": {},
   "outputs": [],
   "source": [
    "movie_ids_with=movie_user_counts.index"
   ]
  },
  {
   "cell_type": "code",
   "execution_count": 41,
   "id": "3b4937ed",
   "metadata": {},
   "outputs": [
    {
     "data": {
      "text/plain": [
       "Index([     9,     21,     30,     31,     32,     33,     37,     39,     48,\n",
       "           51,\n",
       "       ...\n",
       "       291385, 291417, 291459, 291693, 291829, 291831, 291901, 291975, 291977,\n",
       "       291981],\n",
       "      dtype='int64', name='movieId', length=3928)"
      ]
     },
     "execution_count": 41,
     "metadata": {},
     "output_type": "execute_result"
    }
   ],
   "source": [
    "movie_ids_with"
   ]
  },
  {
   "cell_type": "code",
   "execution_count": 42,
   "id": "e5efa214",
   "metadata": {},
   "outputs": [],
   "source": [
    "liked_movie_features = movie_tfidf_matrix[movie_ids_with]\n",
    "user_profile = liked_movie_features.mean(axis=0)"
   ]
  },
  {
   "cell_type": "code",
   "execution_count": 43,
   "id": "cc1fd3d5",
   "metadata": {},
   "outputs": [],
   "source": [
    "profile_dense = np.array(user_profile)\n"
   ]
  },
  {
   "cell_type": "code",
   "execution_count": 44,
   "id": "8d46848d",
   "metadata": {},
   "outputs": [
    {
     "data": {
      "text/plain": [
       "array([[0.        , 0.        , 0.        , 0.        , 0.        ,\n",
       "        0.        , 0.        , 0.        , 0.        , 0.        ,\n",
       "        0.        , 0.        , 0.        , 0.        , 0.        ,\n",
       "        0.        , 0.        , 0.        , 0.        , 0.        ,\n",
       "        0.        , 0.        , 0.        , 0.        , 0.        ,\n",
       "        0.        , 0.        , 0.        , 0.        , 0.        ,\n",
       "        0.        , 0.        , 0.        , 0.        , 0.        ,\n",
       "        0.        , 0.        , 0.        , 0.        , 0.        ,\n",
       "        0.        , 0.        , 0.        , 0.        , 0.        ,\n",
       "        0.        , 0.        , 0.        , 0.        , 0.        ,\n",
       "        0.        , 0.        , 0.        , 0.        , 0.        ,\n",
       "        0.        , 0.        , 0.        , 0.        , 0.        ,\n",
       "        0.        , 0.        , 0.        , 0.        , 0.        ,\n",
       "        0.        , 0.        , 0.        , 0.        , 0.        ,\n",
       "        0.        , 0.        , 0.        , 0.        , 0.        ,\n",
       "        0.        , 0.        , 0.        , 0.        , 0.        ,\n",
       "        0.        , 0.        , 0.        , 0.        , 0.        ,\n",
       "        0.        , 0.        , 0.        , 0.        , 0.        ,\n",
       "        0.        , 0.        , 0.        , 0.        , 0.        ,\n",
       "        0.        , 0.        , 0.        , 0.        , 0.        ,\n",
       "        0.        , 0.        , 0.        , 0.        , 0.        ,\n",
       "        0.        , 0.        , 0.        , 0.        , 0.        ,\n",
       "        0.        , 0.        , 0.70112948, 0.        , 0.        ,\n",
       "        0.        , 0.        , 0.        , 0.        , 0.        ,\n",
       "        0.        , 0.        , 0.        , 0.        , 0.        ,\n",
       "        0.        , 0.        , 0.        , 0.        , 0.        ,\n",
       "        0.        , 0.        , 0.        , 0.        , 0.        ,\n",
       "        0.        , 0.        , 0.        , 0.        , 0.        ,\n",
       "        0.        , 0.1303884 , 0.15353167, 0.06996448, 0.0989005 ,\n",
       "        0.15767068, 0.09134982, 0.        , 0.08989189, 0.08251123,\n",
       "        0.        , 0.        , 0.00797039, 0.        , 0.        ,\n",
       "        0.        , 0.        , 0.        , 0.15078901, 0.        ,\n",
       "        0.12300724, 0.        , 0.        ]])"
      ]
     },
     "execution_count": 44,
     "metadata": {},
     "output_type": "execute_result"
    }
   ],
   "source": [
    "profile_dense"
   ]
  },
  {
   "cell_type": "code",
   "execution_count": 45,
   "id": "96e8170d",
   "metadata": {},
   "outputs": [],
   "source": [
    "from sklearn.preprocessing import normalize\n"
   ]
  },
  {
   "cell_type": "code",
   "execution_count": 46,
   "id": "e9e1ee9d",
   "metadata": {},
   "outputs": [],
   "source": [
    "from sklearn.metrics.pairwise import cosine_similarity\n",
    "cbf_score = cosine_similarity(profile_dense, movie_tfidf_matrix).flatten()\n"
   ]
  },
  {
   "cell_type": "code",
   "execution_count": 47,
   "id": "55228324",
   "metadata": {},
   "outputs": [
    {
     "data": {
      "text/plain": [
       "array([0.69342139, 0.69342139, 0.69342139, ..., 0.02418404, 0.03069874,\n",
       "       0.07969285])"
      ]
     },
     "execution_count": 47,
     "metadata": {},
     "output_type": "execute_result"
    }
   ],
   "source": [
    "cbf_score"
   ]
  },
  {
   "cell_type": "code",
   "execution_count": 48,
   "id": "a881a284",
   "metadata": {},
   "outputs": [
    {
     "data": {
      "text/plain": [
       "(31944706,)"
      ]
     },
     "execution_count": 48,
     "metadata": {},
     "output_type": "execute_result"
    }
   ],
   "source": [
    "cbf_score.shape"
   ]
  },
  {
   "cell_type": "code",
   "execution_count": 49,
   "id": "d624c1f4",
   "metadata": {},
   "outputs": [
    {
     "data": {
      "text/plain": [
       "(0.8729334347080179, 0.0)"
      ]
     },
     "execution_count": 49,
     "metadata": {},
     "output_type": "execute_result"
    }
   ],
   "source": [
    "cbf_score.max(),cbf_score.min()"
   ]
  },
  {
   "cell_type": "code",
   "execution_count": 50,
   "id": "641a47e4",
   "metadata": {},
   "outputs": [],
   "source": [
    "unique_cbf_score = np.unique(cbf_score)\n"
   ]
  },
  {
   "cell_type": "code",
   "execution_count": 51,
   "id": "9ce9155a",
   "metadata": {},
   "outputs": [],
   "source": [
    "unique_cbf_score=unique_cbf_score[::-1]"
   ]
  },
  {
   "cell_type": "code",
   "execution_count": 52,
   "id": "a39c6d8e",
   "metadata": {},
   "outputs": [
    {
     "data": {
      "text/plain": [
       "(0.8729334347080179, 0.0)"
      ]
     },
     "execution_count": 52,
     "metadata": {},
     "output_type": "execute_result"
    }
   ],
   "source": [
    "unique_cbf_score.max(),unique_cbf_score.min()"
   ]
  },
  {
   "cell_type": "code",
   "execution_count": 53,
   "id": "0419b832",
   "metadata": {},
   "outputs": [
    {
     "data": {
      "text/plain": [
       "array([0.87293343, 0.85474685, 0.84993087, ..., 0.00252821, 0.00250007,\n",
       "       0.        ])"
      ]
     },
     "execution_count": 53,
     "metadata": {},
     "output_type": "execute_result"
    }
   ],
   "source": [
    "unique_cbf_score"
   ]
  },
  {
   "cell_type": "code",
   "execution_count": 55,
   "id": "8a8890e4",
   "metadata": {},
   "outputs": [],
   "source": [
    "from sklearn.metrics.pairwise import cosine_similarity\n",
    "\n",
    "def recommend(movie_name):\n",
    "    index =movie[movie['title'] == movie_name].index[0]\n",
    "    \n",
    "    similarity_scores = cosine_similarity(movie_tfidf_matrix[index], movie_tfidf_matrix)  \n",
    "\n",
    "    distances = sorted(list(enumerate(similarity_scores.flatten())), reverse=True, key=lambda x: x[1])\n",
    "    \n",
    "    for i in distances[1:11]: \n",
    "        print(movie.iloc[i[0]].title)\n"
   ]
  },
  {
   "cell_type": "code",
   "execution_count": 56,
   "id": "6f17df23",
   "metadata": {},
   "outputs": [
    {
     "name": "stdout",
     "output_type": "stream",
     "text": [
      "Jumanji\n",
      "Grumpier Old Men\n",
      "Waiting to Exhale\n",
      "Father of the Bride Part II\n",
      "Heat\n",
      "Sabrina\n",
      "Tom and Huck\n",
      "Sudden Death\n",
      "GoldenEye\n",
      "American President, The\n"
     ]
    }
   ],
   "source": [
    "recommend('Toy Story')"
   ]
  },
  {
   "cell_type": "markdown",
   "id": "6097876f",
   "metadata": {},
   "source": [
    "# Collaborative Filtering (CF) "
   ]
  },
  {
   "cell_type": "code",
   "execution_count": 57,
   "id": "f0574d0d",
   "metadata": {},
   "outputs": [],
   "source": [
    "movie_naw=movie_copy.drop_duplicates(subset='movieId', keep='first').reset_index(drop=True)"
   ]
  },
  {
   "cell_type": "code",
   "execution_count": 58,
   "id": "bb714f6d",
   "metadata": {},
   "outputs": [
    {
     "data": {
      "text/plain": [
       "(77877, 6)"
      ]
     },
     "execution_count": 58,
     "metadata": {},
     "output_type": "execute_result"
    }
   ],
   "source": [
    "movie_naw.shape"
   ]
  },
  {
   "cell_type": "code",
   "execution_count": 59,
   "id": "fafb093e",
   "metadata": {},
   "outputs": [
    {
     "data": {
      "text/plain": [
       "0"
      ]
     },
     "execution_count": 59,
     "metadata": {},
     "output_type": "execute_result"
    }
   ],
   "source": [
    "movie_naw.duplicated().sum()"
   ]
  },
  {
   "cell_type": "code",
   "execution_count": 60,
   "id": "e5cf74f0",
   "metadata": {},
   "outputs": [],
   "source": [
    "movie_naw=movie_naw.drop_duplicates(subset='userId', keep='first').reset_index(drop=True)"
   ]
  },
  {
   "cell_type": "code",
   "execution_count": 61,
   "id": "4ce568e1",
   "metadata": {},
   "outputs": [
    {
     "data": {
      "text/plain": [
       "0"
      ]
     },
     "execution_count": 61,
     "metadata": {},
     "output_type": "execute_result"
    }
   ],
   "source": [
    "movie_naw['userId'].duplicated().sum()"
   ]
  },
  {
   "cell_type": "code",
   "execution_count": 148,
   "id": "be7c9a46",
   "metadata": {},
   "outputs": [],
   "source": [
    "movie_naw=movie_naw.head(10000)"
   ]
  },
  {
   "cell_type": "code",
   "execution_count": 149,
   "id": "599ed9cc",
   "metadata": {},
   "outputs": [
    {
     "name": "stdout",
     "output_type": "stream",
     "text": [
      "User-Item Interaction Matrix:\n"
     ]
    },
    {
     "data": {
      "text/html": [
       "<div>\n",
       "<style scoped>\n",
       "    .dataframe tbody tr th:only-of-type {\n",
       "        vertical-align: middle;\n",
       "    }\n",
       "\n",
       "    .dataframe tbody tr th {\n",
       "        vertical-align: top;\n",
       "    }\n",
       "\n",
       "    .dataframe thead th {\n",
       "        text-align: right;\n",
       "    }\n",
       "</style>\n",
       "<table border=\"1\" class=\"dataframe\">\n",
       "  <thead>\n",
       "    <tr style=\"text-align: right;\">\n",
       "      <th>title</th>\n",
       "      <th>\"BLOW THE NIGHT!\" Let's Spend the Night Together</th>\n",
       "      <th>#Female Pleasure</th>\n",
       "      <th>#FriendButMarried 2</th>\n",
       "      <th>$</th>\n",
       "      <th>$5 a Day</th>\n",
       "      <th>'85: The Greatest Team in Pro Football History</th>\n",
       "      <th>'Hellboy': The Seeds of Creation</th>\n",
       "      <th>'Salem's Lot</th>\n",
       "      <th>'Til Death Do Us Part Kourtney &amp; Travis</th>\n",
       "      <th>'Til There Was You</th>\n",
       "      <th>...</th>\n",
       "      <th>Каникулы президента</th>\n",
       "      <th>Карусель</th>\n",
       "      <th>Королёв</th>\n",
       "      <th>Крепость: щитом и мечом</th>\n",
       "      <th>Пациенты</th>\n",
       "      <th>Поэма о крыльях</th>\n",
       "      <th>Тугой узел</th>\n",
       "      <th>ארבינקא</th>\n",
       "      <th>チェブラーシカ</th>\n",
       "      <th>ユニコ 魔法の島へ</th>\n",
       "    </tr>\n",
       "    <tr>\n",
       "      <th>userId</th>\n",
       "      <th></th>\n",
       "      <th></th>\n",
       "      <th></th>\n",
       "      <th></th>\n",
       "      <th></th>\n",
       "      <th></th>\n",
       "      <th></th>\n",
       "      <th></th>\n",
       "      <th></th>\n",
       "      <th></th>\n",
       "      <th></th>\n",
       "      <th></th>\n",
       "      <th></th>\n",
       "      <th></th>\n",
       "      <th></th>\n",
       "      <th></th>\n",
       "      <th></th>\n",
       "      <th></th>\n",
       "      <th></th>\n",
       "      <th></th>\n",
       "      <th></th>\n",
       "    </tr>\n",
       "  </thead>\n",
       "  <tbody>\n",
       "    <tr>\n",
       "      <th>1</th>\n",
       "      <td>0.0</td>\n",
       "      <td>0.0</td>\n",
       "      <td>0.0</td>\n",
       "      <td>0.0</td>\n",
       "      <td>0.0</td>\n",
       "      <td>0.0</td>\n",
       "      <td>0.0</td>\n",
       "      <td>0.0</td>\n",
       "      <td>0.0</td>\n",
       "      <td>0.0</td>\n",
       "      <td>...</td>\n",
       "      <td>0.0</td>\n",
       "      <td>0.0</td>\n",
       "      <td>0.0</td>\n",
       "      <td>0.0</td>\n",
       "      <td>0.0</td>\n",
       "      <td>0.0</td>\n",
       "      <td>0.0</td>\n",
       "      <td>0.0</td>\n",
       "      <td>0.0</td>\n",
       "      <td>0.0</td>\n",
       "    </tr>\n",
       "    <tr>\n",
       "      <th>2</th>\n",
       "      <td>0.0</td>\n",
       "      <td>0.0</td>\n",
       "      <td>0.0</td>\n",
       "      <td>0.0</td>\n",
       "      <td>0.0</td>\n",
       "      <td>0.0</td>\n",
       "      <td>0.0</td>\n",
       "      <td>0.0</td>\n",
       "      <td>0.0</td>\n",
       "      <td>0.0</td>\n",
       "      <td>...</td>\n",
       "      <td>0.0</td>\n",
       "      <td>0.0</td>\n",
       "      <td>0.0</td>\n",
       "      <td>0.0</td>\n",
       "      <td>0.0</td>\n",
       "      <td>0.0</td>\n",
       "      <td>0.0</td>\n",
       "      <td>0.0</td>\n",
       "      <td>0.0</td>\n",
       "      <td>0.0</td>\n",
       "    </tr>\n",
       "    <tr>\n",
       "      <th>3</th>\n",
       "      <td>0.0</td>\n",
       "      <td>0.0</td>\n",
       "      <td>0.0</td>\n",
       "      <td>0.0</td>\n",
       "      <td>0.0</td>\n",
       "      <td>0.0</td>\n",
       "      <td>0.0</td>\n",
       "      <td>0.0</td>\n",
       "      <td>0.0</td>\n",
       "      <td>0.0</td>\n",
       "      <td>...</td>\n",
       "      <td>0.0</td>\n",
       "      <td>0.0</td>\n",
       "      <td>0.0</td>\n",
       "      <td>0.0</td>\n",
       "      <td>0.0</td>\n",
       "      <td>0.0</td>\n",
       "      <td>0.0</td>\n",
       "      <td>0.0</td>\n",
       "      <td>0.0</td>\n",
       "      <td>0.0</td>\n",
       "    </tr>\n",
       "    <tr>\n",
       "      <th>4</th>\n",
       "      <td>0.0</td>\n",
       "      <td>0.0</td>\n",
       "      <td>0.0</td>\n",
       "      <td>0.0</td>\n",
       "      <td>0.0</td>\n",
       "      <td>0.0</td>\n",
       "      <td>0.0</td>\n",
       "      <td>0.0</td>\n",
       "      <td>0.0</td>\n",
       "      <td>0.0</td>\n",
       "      <td>...</td>\n",
       "      <td>0.0</td>\n",
       "      <td>0.0</td>\n",
       "      <td>0.0</td>\n",
       "      <td>0.0</td>\n",
       "      <td>0.0</td>\n",
       "      <td>0.0</td>\n",
       "      <td>0.0</td>\n",
       "      <td>0.0</td>\n",
       "      <td>0.0</td>\n",
       "      <td>0.0</td>\n",
       "    </tr>\n",
       "    <tr>\n",
       "      <th>5</th>\n",
       "      <td>0.0</td>\n",
       "      <td>0.0</td>\n",
       "      <td>0.0</td>\n",
       "      <td>0.0</td>\n",
       "      <td>0.0</td>\n",
       "      <td>0.0</td>\n",
       "      <td>0.0</td>\n",
       "      <td>0.0</td>\n",
       "      <td>0.0</td>\n",
       "      <td>0.0</td>\n",
       "      <td>...</td>\n",
       "      <td>0.0</td>\n",
       "      <td>0.0</td>\n",
       "      <td>0.0</td>\n",
       "      <td>0.0</td>\n",
       "      <td>0.0</td>\n",
       "      <td>0.0</td>\n",
       "      <td>0.0</td>\n",
       "      <td>0.0</td>\n",
       "      <td>0.0</td>\n",
       "      <td>0.0</td>\n",
       "    </tr>\n",
       "    <tr>\n",
       "      <th>...</th>\n",
       "      <td>...</td>\n",
       "      <td>...</td>\n",
       "      <td>...</td>\n",
       "      <td>...</td>\n",
       "      <td>...</td>\n",
       "      <td>...</td>\n",
       "      <td>...</td>\n",
       "      <td>...</td>\n",
       "      <td>...</td>\n",
       "      <td>...</td>\n",
       "      <td>...</td>\n",
       "      <td>...</td>\n",
       "      <td>...</td>\n",
       "      <td>...</td>\n",
       "      <td>...</td>\n",
       "      <td>...</td>\n",
       "      <td>...</td>\n",
       "      <td>...</td>\n",
       "      <td>...</td>\n",
       "      <td>...</td>\n",
       "      <td>...</td>\n",
       "    </tr>\n",
       "    <tr>\n",
       "      <th>200443</th>\n",
       "      <td>0.0</td>\n",
       "      <td>0.0</td>\n",
       "      <td>0.0</td>\n",
       "      <td>0.0</td>\n",
       "      <td>0.0</td>\n",
       "      <td>0.0</td>\n",
       "      <td>0.0</td>\n",
       "      <td>0.0</td>\n",
       "      <td>0.0</td>\n",
       "      <td>0.0</td>\n",
       "      <td>...</td>\n",
       "      <td>0.0</td>\n",
       "      <td>0.0</td>\n",
       "      <td>0.0</td>\n",
       "      <td>0.0</td>\n",
       "      <td>0.0</td>\n",
       "      <td>0.0</td>\n",
       "      <td>0.0</td>\n",
       "      <td>0.0</td>\n",
       "      <td>0.0</td>\n",
       "      <td>0.0</td>\n",
       "    </tr>\n",
       "    <tr>\n",
       "      <th>200488</th>\n",
       "      <td>0.0</td>\n",
       "      <td>0.0</td>\n",
       "      <td>0.0</td>\n",
       "      <td>0.0</td>\n",
       "      <td>0.0</td>\n",
       "      <td>0.0</td>\n",
       "      <td>0.0</td>\n",
       "      <td>0.0</td>\n",
       "      <td>0.0</td>\n",
       "      <td>0.0</td>\n",
       "      <td>...</td>\n",
       "      <td>0.0</td>\n",
       "      <td>0.0</td>\n",
       "      <td>0.0</td>\n",
       "      <td>0.0</td>\n",
       "      <td>0.0</td>\n",
       "      <td>0.0</td>\n",
       "      <td>0.0</td>\n",
       "      <td>0.0</td>\n",
       "      <td>0.0</td>\n",
       "      <td>0.0</td>\n",
       "    </tr>\n",
       "    <tr>\n",
       "      <th>200581</th>\n",
       "      <td>0.0</td>\n",
       "      <td>0.0</td>\n",
       "      <td>0.0</td>\n",
       "      <td>0.0</td>\n",
       "      <td>0.0</td>\n",
       "      <td>0.0</td>\n",
       "      <td>0.0</td>\n",
       "      <td>0.0</td>\n",
       "      <td>0.0</td>\n",
       "      <td>0.0</td>\n",
       "      <td>...</td>\n",
       "      <td>0.0</td>\n",
       "      <td>0.0</td>\n",
       "      <td>0.0</td>\n",
       "      <td>0.0</td>\n",
       "      <td>0.0</td>\n",
       "      <td>0.0</td>\n",
       "      <td>0.0</td>\n",
       "      <td>0.0</td>\n",
       "      <td>0.0</td>\n",
       "      <td>0.0</td>\n",
       "    </tr>\n",
       "    <tr>\n",
       "      <th>200809</th>\n",
       "      <td>0.0</td>\n",
       "      <td>0.0</td>\n",
       "      <td>0.0</td>\n",
       "      <td>0.0</td>\n",
       "      <td>0.0</td>\n",
       "      <td>0.0</td>\n",
       "      <td>0.0</td>\n",
       "      <td>0.0</td>\n",
       "      <td>0.0</td>\n",
       "      <td>0.0</td>\n",
       "      <td>...</td>\n",
       "      <td>0.0</td>\n",
       "      <td>0.0</td>\n",
       "      <td>0.0</td>\n",
       "      <td>0.0</td>\n",
       "      <td>0.0</td>\n",
       "      <td>0.0</td>\n",
       "      <td>0.0</td>\n",
       "      <td>0.0</td>\n",
       "      <td>0.0</td>\n",
       "      <td>0.0</td>\n",
       "    </tr>\n",
       "    <tr>\n",
       "      <th>200933</th>\n",
       "      <td>0.0</td>\n",
       "      <td>0.0</td>\n",
       "      <td>0.0</td>\n",
       "      <td>0.0</td>\n",
       "      <td>0.0</td>\n",
       "      <td>0.0</td>\n",
       "      <td>0.0</td>\n",
       "      <td>0.0</td>\n",
       "      <td>0.0</td>\n",
       "      <td>0.0</td>\n",
       "      <td>...</td>\n",
       "      <td>0.0</td>\n",
       "      <td>0.0</td>\n",
       "      <td>0.0</td>\n",
       "      <td>0.0</td>\n",
       "      <td>0.0</td>\n",
       "      <td>0.0</td>\n",
       "      <td>0.0</td>\n",
       "      <td>0.0</td>\n",
       "      <td>0.0</td>\n",
       "      <td>0.0</td>\n",
       "    </tr>\n",
       "  </tbody>\n",
       "</table>\n",
       "<p>7900 rows × 7805 columns</p>\n",
       "</div>"
      ],
      "text/plain": [
       "title   \"BLOW THE NIGHT!\" Let's Spend the Night Together  #Female Pleasure  \\\n",
       "userId                                                                       \n",
       "1                                                    0.0               0.0   \n",
       "2                                                    0.0               0.0   \n",
       "3                                                    0.0               0.0   \n",
       "4                                                    0.0               0.0   \n",
       "5                                                    0.0               0.0   \n",
       "...                                                  ...               ...   \n",
       "200443                                               0.0               0.0   \n",
       "200488                                               0.0               0.0   \n",
       "200581                                               0.0               0.0   \n",
       "200809                                               0.0               0.0   \n",
       "200933                                               0.0               0.0   \n",
       "\n",
       "title   #FriendButMarried 2    $  $5 a Day  \\\n",
       "userId                                       \n",
       "1                       0.0  0.0       0.0   \n",
       "2                       0.0  0.0       0.0   \n",
       "3                       0.0  0.0       0.0   \n",
       "4                       0.0  0.0       0.0   \n",
       "5                       0.0  0.0       0.0   \n",
       "...                     ...  ...       ...   \n",
       "200443                  0.0  0.0       0.0   \n",
       "200488                  0.0  0.0       0.0   \n",
       "200581                  0.0  0.0       0.0   \n",
       "200809                  0.0  0.0       0.0   \n",
       "200933                  0.0  0.0       0.0   \n",
       "\n",
       "title   '85: The Greatest Team in Pro Football History  \\\n",
       "userId                                                   \n",
       "1                                                  0.0   \n",
       "2                                                  0.0   \n",
       "3                                                  0.0   \n",
       "4                                                  0.0   \n",
       "5                                                  0.0   \n",
       "...                                                ...   \n",
       "200443                                             0.0   \n",
       "200488                                             0.0   \n",
       "200581                                             0.0   \n",
       "200809                                             0.0   \n",
       "200933                                             0.0   \n",
       "\n",
       "title   'Hellboy': The Seeds of Creation  'Salem's Lot  \\\n",
       "userId                                                   \n",
       "1                                    0.0           0.0   \n",
       "2                                    0.0           0.0   \n",
       "3                                    0.0           0.0   \n",
       "4                                    0.0           0.0   \n",
       "5                                    0.0           0.0   \n",
       "...                                  ...           ...   \n",
       "200443                               0.0           0.0   \n",
       "200488                               0.0           0.0   \n",
       "200581                               0.0           0.0   \n",
       "200809                               0.0           0.0   \n",
       "200933                               0.0           0.0   \n",
       "\n",
       "title   'Til Death Do Us Part Kourtney & Travis  'Til There Was You  ...  \\\n",
       "userId                                                               ...   \n",
       "1                                           0.0                 0.0  ...   \n",
       "2                                           0.0                 0.0  ...   \n",
       "3                                           0.0                 0.0  ...   \n",
       "4                                           0.0                 0.0  ...   \n",
       "5                                           0.0                 0.0  ...   \n",
       "...                                         ...                 ...  ...   \n",
       "200443                                      0.0                 0.0  ...   \n",
       "200488                                      0.0                 0.0  ...   \n",
       "200581                                      0.0                 0.0  ...   \n",
       "200809                                      0.0                 0.0  ...   \n",
       "200933                                      0.0                 0.0  ...   \n",
       "\n",
       "title   Каникулы президента  Карусель  Королёв  Крепость: щитом и мечом  \\\n",
       "userId                                                                    \n",
       "1                       0.0       0.0      0.0                      0.0   \n",
       "2                       0.0       0.0      0.0                      0.0   \n",
       "3                       0.0       0.0      0.0                      0.0   \n",
       "4                       0.0       0.0      0.0                      0.0   \n",
       "5                       0.0       0.0      0.0                      0.0   \n",
       "...                     ...       ...      ...                      ...   \n",
       "200443                  0.0       0.0      0.0                      0.0   \n",
       "200488                  0.0       0.0      0.0                      0.0   \n",
       "200581                  0.0       0.0      0.0                      0.0   \n",
       "200809                  0.0       0.0      0.0                      0.0   \n",
       "200933                  0.0       0.0      0.0                      0.0   \n",
       "\n",
       "title   Пациенты  Поэма о крыльях  Тугой узел  ארבינקא  チェブラーシカ  ユニコ 魔法の島へ  \n",
       "userId                                                                      \n",
       "1            0.0              0.0         0.0      0.0      0.0        0.0  \n",
       "2            0.0              0.0         0.0      0.0      0.0        0.0  \n",
       "3            0.0              0.0         0.0      0.0      0.0        0.0  \n",
       "4            0.0              0.0         0.0      0.0      0.0        0.0  \n",
       "5            0.0              0.0         0.0      0.0      0.0        0.0  \n",
       "...          ...              ...         ...      ...      ...        ...  \n",
       "200443       0.0              0.0         0.0      0.0      0.0        0.0  \n",
       "200488       0.0              0.0         0.0      0.0      0.0        0.0  \n",
       "200581       0.0              0.0         0.0      0.0      0.0        0.0  \n",
       "200809       0.0              0.0         0.0      0.0      0.0        0.0  \n",
       "200933       0.0              0.0         0.0      0.0      0.0        0.0  \n",
       "\n",
       "[7900 rows x 7805 columns]"
      ]
     },
     "execution_count": 149,
     "metadata": {},
     "output_type": "execute_result"
    }
   ],
   "source": [
    "user_item_matrix = movie_naw.pivot(index='userId', columns='title', values='rating').fillna(0)\n",
    "print(\"User-Item Interaction Matrix:\")\n",
    "user_item_matrix"
   ]
  },
  {
   "cell_type": "code",
   "execution_count": 150,
   "id": "3ac23130",
   "metadata": {},
   "outputs": [
    {
     "name": "stdout",
     "output_type": "stream",
     "text": [
      "User Similarity Matrix (User-Based CF):\n",
      "userId  1       2       3       4       5       6       7       8       \\\n",
      "userId                                                                   \n",
      "1          1.0     0.0     0.0     0.0     0.0     0.0     0.0     0.0   \n",
      "2          0.0     1.0     0.0     0.0     0.0     0.0     0.0     0.0   \n",
      "3          0.0     0.0     1.0     0.0     0.0     0.0     0.0     0.0   \n",
      "4          0.0     0.0     0.0     1.0     0.0     0.0     0.0     0.0   \n",
      "5          0.0     0.0     0.0     0.0     1.0     0.0     0.0     0.0   \n",
      "...        ...     ...     ...     ...     ...     ...     ...     ...   \n",
      "200443     0.0     0.0     0.0     0.0     0.0     0.0     0.0     0.0   \n",
      "200488     0.0     0.0     0.0     0.0     0.0     0.0     0.0     0.0   \n",
      "200581     0.0     0.0     0.0     0.0     0.0     0.0     0.0     0.0   \n",
      "200809     0.0     0.0     0.0     0.0     0.0     0.0     0.0     0.0   \n",
      "200933     0.0     0.0     0.0     0.0     0.0     0.0     0.0     0.0   \n",
      "\n",
      "userId  9       10      ...  200156  200174  200323  200349  200432  200443  \\\n",
      "userId                  ...                                                   \n",
      "1          0.0     0.0  ...     0.0     0.0     0.0     0.0     0.0     0.0   \n",
      "2          0.0     0.0  ...     0.0     0.0     0.0     0.0     0.0     0.0   \n",
      "3          0.0     0.0  ...     0.0     0.0     0.0     0.0     0.0     0.0   \n",
      "4          0.0     0.0  ...     0.0     0.0     0.0     0.0     0.0     0.0   \n",
      "5          0.0     0.0  ...     0.0     0.0     0.0     0.0     0.0     0.0   \n",
      "...        ...     ...  ...     ...     ...     ...     ...     ...     ...   \n",
      "200443     0.0     0.0  ...     0.0     0.0     0.0     0.0     0.0     1.0   \n",
      "200488     0.0     0.0  ...     0.0     0.0     0.0     0.0     0.0     0.0   \n",
      "200581     0.0     0.0  ...     0.0     0.0     0.0     0.0     0.0     0.0   \n",
      "200809     0.0     0.0  ...     0.0     0.0     0.0     0.0     0.0     0.0   \n",
      "200933     0.0     0.0  ...     0.0     0.0     0.0     0.0     0.0     0.0   \n",
      "\n",
      "userId  200488  200581  200809  200933  \n",
      "userId                                  \n",
      "1          0.0     0.0     0.0     0.0  \n",
      "2          0.0     0.0     0.0     0.0  \n",
      "3          0.0     0.0     0.0     0.0  \n",
      "4          0.0     0.0     0.0     0.0  \n",
      "5          0.0     0.0     0.0     0.0  \n",
      "...        ...     ...     ...     ...  \n",
      "200443     0.0     0.0     0.0     0.0  \n",
      "200488     1.0     0.0     0.0     0.0  \n",
      "200581     0.0     1.0     0.0     0.0  \n",
      "200809     0.0     0.0     1.0     0.0  \n",
      "200933     0.0     0.0     0.0     1.0  \n",
      "\n",
      "[7900 rows x 7900 columns]\n"
     ]
    }
   ],
   "source": [
    "from sklearn.metrics.pairwise import cosine_similarity\n",
    "\n",
    "user_similarity = cosine_similarity(user_item_matrix)\n",
    "user_similarity_df = pd.DataFrame(user_similarity, index=user_item_matrix.index, columns=user_item_matrix.index)\n",
    "print(\"User Similarity Matrix (User-Based CF):\")\n",
    "print(user_similarity_df)\n"
   ]
  },
  {
   "cell_type": "code",
   "execution_count": 151,
   "id": "e10b0cf6",
   "metadata": {},
   "outputs": [
    {
     "name": "stdout",
     "output_type": "stream",
     "text": [
      "Collaborative Filtering Scores for User 1:\n",
      "title\n",
      "\"BLOW THE NIGHT!\" Let's Spend the Night Together    0.0\n",
      "#Female Pleasure                                    0.0\n",
      "#FriendButMarried 2                                 0.0\n",
      "$                                                   0.0\n",
      "$5 a Day                                            0.0\n",
      "                                                   ... \n",
      "Поэма о крыльях                                     0.0\n",
      "Тугой узел                                          0.0\n",
      "ארבינקא                                             0.0\n",
      "チェブラーシカ                                             0.0\n",
      "ユニコ 魔法の島へ                                           0.0\n",
      "Length: 7805, dtype: float64\n"
     ]
    }
   ],
   "source": [
    "target_user_id = 1\n",
    "similar_users = user_similarity_df.loc[target_user_id]\n",
    "\n",
    "weighted_ratings = user_item_matrix.T.dot(similar_users)\n",
    "similarity_sum = similar_users.sum()\n",
    "\n",
    "cf_scores = weighted_ratings / similarity_sum\n",
    "print(f\"Collaborative Filtering Scores for User {target_user_id}:\")\n",
    "print(cf_scores)\n"
   ]
  },
  {
   "cell_type": "code",
   "execution_count": 152,
   "id": "7bd31a65",
   "metadata": {},
   "outputs": [
    {
     "name": "stdout",
     "output_type": "stream",
     "text": [
      "Top Recommended Movies (CF):\n",
      "title\n",
      "\"BLOW THE NIGHT!\" Let's Spend the Night Together    0.0\n",
      "Reach the Rock                                      0.0\n",
      "Red Shoes and the Seven Dwarfs                      0.0\n",
      "Red Nose Day Actually                               0.0\n",
      "Red Nightmare                                       0.0\n",
      "Red Meadows                                         0.0\n",
      "Red Lights                                          0.0\n",
      "Red Letter Day                                      0.0\n",
      "Red Doors                                           0.0\n",
      "Red Dawn                                            0.0\n",
      "dtype: float64\n"
     ]
    }
   ],
   "source": [
    "user_rated_movies = user_item_matrix.loc[target_user_id] > 0\n",
    "unrated_movies = ~user_rated_movies\n",
    "\n",
    "# Recommend top movies based on CF scores\n",
    "recommended_movies = cf_scores[unrated_movies].sort_values(ascending=False).head(10)\n",
    "print(\"Top Recommended Movies (CF):\")\n",
    "print(recommended_movies)\n"
   ]
  },
  {
   "cell_type": "code",
   "execution_count": null,
   "id": "835aee55",
   "metadata": {},
   "outputs": [],
   "source": []
  }
 ],
 "metadata": {
  "kernelspec": {
   "display_name": "Python 3 (ipykernel)",
   "language": "python",
   "name": "python3"
  },
  "language_info": {
   "codemirror_mode": {
    "name": "ipython",
    "version": 3
   },
   "file_extension": ".py",
   "mimetype": "text/x-python",
   "name": "python",
   "nbconvert_exporter": "python",
   "pygments_lexer": "ipython3",
   "version": "3.9.13"
  }
 },
 "nbformat": 4,
 "nbformat_minor": 5
}
